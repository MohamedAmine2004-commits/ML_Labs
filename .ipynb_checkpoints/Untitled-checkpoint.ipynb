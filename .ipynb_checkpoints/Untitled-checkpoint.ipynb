{
 "cells": [
  {
   "cell_type": "code",
   "execution_count": 16,
   "id": "1c0131c0-3620-46fc-9e52-c727e1988cfb",
   "metadata": {},
   "outputs": [],
   "source": [
    "import networkx as nx\n",
    "import pandas as pd\n",
    "import numpy as np\n",
    "import seaborn as sns\n",
    "import datetime as dt\n",
    "import os\n",
    "import joblib\n",
    "\n",
    "from sklearn.feature_extraction.text import TfidfVectorizer\n",
    "from sklearn.preprocessing import StandardScaler, MinMaxScaler, OneHotEncoder\n",
    "from sklearn.cluster import KMeans\n",
    "from sklearn.compose import ColumnTransformer\n",
    "from sklearn.pipeline import Pipeline\n",
    "from datetime import datetime, timedelta\n",
    "from matplotlib import pyplot as plt\n",
    "from sklearn.metrics import mean_squared_error"
   ]
  },
  {
   "cell_type": "code",
   "execution_count": 17,
   "id": "d7ef91e4-48b2-4de0-a13a-9a8b1e93aa7c",
   "metadata": {},
   "outputs": [],
   "source": [
    "df = pd.read_csv(\"data/online_retail_II.csv\", encoding='ISO-8859-1')"
   ]
  },
  {
   "cell_type": "code",
   "execution_count": 18,
   "id": "95c8e7ea-cd98-4c4e-82cf-2e77ba37d759",
   "metadata": {},
   "outputs": [
    {
     "data": {
      "text/html": [
       "<div>\n",
       "<style scoped>\n",
       "    .dataframe tbody tr th:only-of-type {\n",
       "        vertical-align: middle;\n",
       "    }\n",
       "\n",
       "    .dataframe tbody tr th {\n",
       "        vertical-align: top;\n",
       "    }\n",
       "\n",
       "    .dataframe thead th {\n",
       "        text-align: right;\n",
       "    }\n",
       "</style>\n",
       "<table border=\"1\" class=\"dataframe\">\n",
       "  <thead>\n",
       "    <tr style=\"text-align: right;\">\n",
       "      <th></th>\n",
       "      <th>Invoice</th>\n",
       "      <th>StockCode</th>\n",
       "      <th>Description</th>\n",
       "      <th>Quantity</th>\n",
       "      <th>InvoiceDate</th>\n",
       "      <th>Price</th>\n",
       "      <th>Customer ID</th>\n",
       "      <th>Country</th>\n",
       "    </tr>\n",
       "  </thead>\n",
       "  <tbody>\n",
       "    <tr>\n",
       "      <th>0</th>\n",
       "      <td>536365</td>\n",
       "      <td>85123A</td>\n",
       "      <td>WHITE HANGING HEART T-LIGHT HOLDER</td>\n",
       "      <td>6</td>\n",
       "      <td>12/1/10 8:26</td>\n",
       "      <td>2.55</td>\n",
       "      <td>17850.0</td>\n",
       "      <td>United Kingdom</td>\n",
       "    </tr>\n",
       "    <tr>\n",
       "      <th>1</th>\n",
       "      <td>536365</td>\n",
       "      <td>71053</td>\n",
       "      <td>WHITE METAL LANTERN</td>\n",
       "      <td>6</td>\n",
       "      <td>12/1/10 8:26</td>\n",
       "      <td>3.39</td>\n",
       "      <td>17850.0</td>\n",
       "      <td>United Kingdom</td>\n",
       "    </tr>\n",
       "    <tr>\n",
       "      <th>2</th>\n",
       "      <td>536365</td>\n",
       "      <td>84406B</td>\n",
       "      <td>CREAM CUPID HEARTS COAT HANGER</td>\n",
       "      <td>8</td>\n",
       "      <td>12/1/10 8:26</td>\n",
       "      <td>2.75</td>\n",
       "      <td>17850.0</td>\n",
       "      <td>United Kingdom</td>\n",
       "    </tr>\n",
       "    <tr>\n",
       "      <th>3</th>\n",
       "      <td>536365</td>\n",
       "      <td>84029G</td>\n",
       "      <td>KNITTED UNION FLAG HOT WATER BOTTLE</td>\n",
       "      <td>6</td>\n",
       "      <td>12/1/10 8:26</td>\n",
       "      <td>3.39</td>\n",
       "      <td>17850.0</td>\n",
       "      <td>United Kingdom</td>\n",
       "    </tr>\n",
       "    <tr>\n",
       "      <th>4</th>\n",
       "      <td>536365</td>\n",
       "      <td>84029E</td>\n",
       "      <td>RED WOOLLY HOTTIE WHITE HEART.</td>\n",
       "      <td>6</td>\n",
       "      <td>12/1/10 8:26</td>\n",
       "      <td>3.39</td>\n",
       "      <td>17850.0</td>\n",
       "      <td>United Kingdom</td>\n",
       "    </tr>\n",
       "  </tbody>\n",
       "</table>\n",
       "</div>"
      ],
      "text/plain": [
       "  Invoice StockCode                          Description  Quantity  \\\n",
       "0  536365    85123A   WHITE HANGING HEART T-LIGHT HOLDER         6   \n",
       "1  536365     71053                  WHITE METAL LANTERN         6   \n",
       "2  536365    84406B       CREAM CUPID HEARTS COAT HANGER         8   \n",
       "3  536365    84029G  KNITTED UNION FLAG HOT WATER BOTTLE         6   \n",
       "4  536365    84029E       RED WOOLLY HOTTIE WHITE HEART.         6   \n",
       "\n",
       "    InvoiceDate  Price  Customer ID         Country  \n",
       "0  12/1/10 8:26   2.55      17850.0  United Kingdom  \n",
       "1  12/1/10 8:26   3.39      17850.0  United Kingdom  \n",
       "2  12/1/10 8:26   2.75      17850.0  United Kingdom  \n",
       "3  12/1/10 8:26   3.39      17850.0  United Kingdom  \n",
       "4  12/1/10 8:26   3.39      17850.0  United Kingdom  "
      ]
     },
     "execution_count": 18,
     "metadata": {},
     "output_type": "execute_result"
    }
   ],
   "source": [
    "df.head()"
   ]
  },
  {
   "cell_type": "code",
   "execution_count": 19,
   "id": "60a25ac8-7deb-496a-ba0a-53f57a105350",
   "metadata": {},
   "outputs": [
    {
     "name": "stdout",
     "output_type": "stream",
     "text": [
      "<class 'pandas.core.frame.DataFrame'>\n",
      "RangeIndex: 541910 entries, 0 to 541909\n",
      "Data columns (total 8 columns):\n",
      " #   Column       Non-Null Count   Dtype  \n",
      "---  ------       --------------   -----  \n",
      " 0   Invoice      541910 non-null  object \n",
      " 1   StockCode    541910 non-null  object \n",
      " 2   Description  540456 non-null  object \n",
      " 3   Quantity     541910 non-null  int64  \n",
      " 4   InvoiceDate  541910 non-null  object \n",
      " 5   Price        541910 non-null  float64\n",
      " 6   Customer ID  406830 non-null  float64\n",
      " 7   Country      541910 non-null  object \n",
      "dtypes: float64(2), int64(1), object(5)\n",
      "memory usage: 33.1+ MB\n"
     ]
    }
   ],
   "source": [
    "df.info()"
   ]
  },
  {
   "cell_type": "code",
   "execution_count": 20,
   "id": "2de9931e-f758-4b8d-b2a0-480790667050",
   "metadata": {},
   "outputs": [
    {
     "data": {
      "text/html": [
       "<div>\n",
       "<style scoped>\n",
       "    .dataframe tbody tr th:only-of-type {\n",
       "        vertical-align: middle;\n",
       "    }\n",
       "\n",
       "    .dataframe tbody tr th {\n",
       "        vertical-align: top;\n",
       "    }\n",
       "\n",
       "    .dataframe thead th {\n",
       "        text-align: right;\n",
       "    }\n",
       "</style>\n",
       "<table border=\"1\" class=\"dataframe\">\n",
       "  <thead>\n",
       "    <tr style=\"text-align: right;\">\n",
       "      <th></th>\n",
       "      <th>Quantity</th>\n",
       "      <th>Price</th>\n",
       "      <th>Customer ID</th>\n",
       "    </tr>\n",
       "  </thead>\n",
       "  <tbody>\n",
       "    <tr>\n",
       "      <th>count</th>\n",
       "      <td>541910.000000</td>\n",
       "      <td>541910.000000</td>\n",
       "      <td>406830.000000</td>\n",
       "    </tr>\n",
       "    <tr>\n",
       "      <th>mean</th>\n",
       "      <td>9.552234</td>\n",
       "      <td>4.611138</td>\n",
       "      <td>15287.684160</td>\n",
       "    </tr>\n",
       "    <tr>\n",
       "      <th>std</th>\n",
       "      <td>218.080957</td>\n",
       "      <td>96.759765</td>\n",
       "      <td>1713.603074</td>\n",
       "    </tr>\n",
       "    <tr>\n",
       "      <th>min</th>\n",
       "      <td>-80995.000000</td>\n",
       "      <td>-11062.060000</td>\n",
       "      <td>12346.000000</td>\n",
       "    </tr>\n",
       "    <tr>\n",
       "      <th>25%</th>\n",
       "      <td>1.000000</td>\n",
       "      <td>1.250000</td>\n",
       "      <td>13953.000000</td>\n",
       "    </tr>\n",
       "    <tr>\n",
       "      <th>50%</th>\n",
       "      <td>3.000000</td>\n",
       "      <td>2.080000</td>\n",
       "      <td>15152.000000</td>\n",
       "    </tr>\n",
       "    <tr>\n",
       "      <th>75%</th>\n",
       "      <td>10.000000</td>\n",
       "      <td>4.130000</td>\n",
       "      <td>16791.000000</td>\n",
       "    </tr>\n",
       "    <tr>\n",
       "      <th>max</th>\n",
       "      <td>80995.000000</td>\n",
       "      <td>38970.000000</td>\n",
       "      <td>18287.000000</td>\n",
       "    </tr>\n",
       "  </tbody>\n",
       "</table>\n",
       "</div>"
      ],
      "text/plain": [
       "            Quantity          Price    Customer ID\n",
       "count  541910.000000  541910.000000  406830.000000\n",
       "mean        9.552234       4.611138   15287.684160\n",
       "std       218.080957      96.759765    1713.603074\n",
       "min    -80995.000000  -11062.060000   12346.000000\n",
       "25%         1.000000       1.250000   13953.000000\n",
       "50%         3.000000       2.080000   15152.000000\n",
       "75%        10.000000       4.130000   16791.000000\n",
       "max     80995.000000   38970.000000   18287.000000"
      ]
     },
     "execution_count": 20,
     "metadata": {},
     "output_type": "execute_result"
    }
   ],
   "source": [
    "df.describe()"
   ]
  },
  {
   "cell_type": "code",
   "execution_count": 21,
   "id": "64b88f53-ca9b-450d-ba1d-1c38dbf2c8b1",
   "metadata": {},
   "outputs": [],
   "source": [
    "df.rename(columns={'Customer ID':'CustomerId'},inplace=True)"
   ]
  },
  {
   "cell_type": "code",
   "execution_count": 22,
   "id": "32ca5b96-3bcc-4b42-871e-44afc1b908a1",
   "metadata": {},
   "outputs": [],
   "source": [
    "df=df.drop(['CustomerId'],axis=1)"
   ]
  },
  {
   "cell_type": "code",
   "execution_count": 23,
   "id": "df9bf237-04ee-4c41-971a-e32b8e41a1e7",
   "metadata": {},
   "outputs": [],
   "source": [
    "df.drop_duplicates(inplace=True)"
   ]
  },
  {
   "cell_type": "code",
   "execution_count": 24,
   "id": "192899f7-b2fd-41c0-95fc-f6ac503a6c28",
   "metadata": {},
   "outputs": [
    {
     "data": {
      "text/plain": [
       "(536642, 7)"
      ]
     },
     "execution_count": 24,
     "metadata": {},
     "output_type": "execute_result"
    }
   ],
   "source": [
    "df.shape"
   ]
  },
  {
   "cell_type": "code",
   "execution_count": 25,
   "id": "189397de-586b-463c-b4ee-b4854a32b8cf",
   "metadata": {},
   "outputs": [],
   "source": [
    "# 2. Handle missing values\n",
    "df.dropna(subset=['Quantity', 'Price'], inplace=True)  # Drop rows where Quantity or Price is NaN\n",
    "# 3. Remove negative values in Quantity and Price\n",
    "df = df[(df['Quantity'] >= 0) & (df['Price'] >= 0)]\n",
    "# 4. Create TotalSpend column\n",
    "df['TotalSpend'] = df['Quantity'] * df['Price']\n",
    "# 5. Optional: Convert Invoice to a categorical variable if it's not numeric\n",
    "df['Invoice'] = df['Invoice'].astype('category').cat.codes"
   ]
  },
  {
   "cell_type": "code",
   "execution_count": 26,
   "id": "4b611444-c667-42e1-a31d-c273b3ee7c0d",
   "metadata": {},
   "outputs": [
    {
     "data": {
      "text/plain": [
       "(526053, 8)"
      ]
     },
     "execution_count": 26,
     "metadata": {},
     "output_type": "execute_result"
    }
   ],
   "source": [
    "df.shape"
   ]
  },
  {
   "cell_type": "code",
   "execution_count": 29,
   "id": "047c5e75-8586-4ff8-9d53-7a3523f99bd7",
   "metadata": {},
   "outputs": [
    {
     "name": "stdout",
     "output_type": "stream",
     "text": [
      "        Invoice StockCode                     Description  Quantity  \\\n",
      "286763    11618     20727         LUNCH BAG  BLACK SKULL.        10   \n",
      "524356    20205     20750        RED RETROSPOT MINI CASES         2   \n",
      "410643    16263     23485   BOTANICAL GARDENS WALL CLOCK          4   \n",
      "376753    15050     23407  SET OF 2 TRAYS HOME SWEET HOME         2   \n",
      "239061     9740     20724     RED RETROSPOT CHARLOTTE BAG       100   \n",
      "\n",
      "          InvoiceDate  Price         Country  TotalSpend  \n",
      "286763    8/2/11 9:55   1.65          France        16.5  \n",
      "524356   12/5/11 9:16   7.95        Portugal        15.9  \n",
      "410643  10/21/11 8:24  20.80  United Kingdom        83.2  \n",
      "376753  10/4/11 15:21   9.95  United Kingdom        19.9  \n",
      "239061  6/24/11 10:03   0.72  United Kingdom        72.0  \n"
     ]
    }
   ],
   "source": [
    "# Sample a subset of the dataset if it's too large\n",
    "df_sample = df.sample(frac=0.01, random_state=42)  # Take 10% of the data\n",
    "# View first few rows of the cleaned dataset\n",
    "print(df_sample.head())"
   ]
  },
  {
   "cell_type": "code",
   "execution_count": 30,
   "id": "860fe94e-0e37-4447-b17d-4bafb375fe82",
   "metadata": {},
   "outputs": [
    {
     "data": {
      "text/plain": [
       "Text(0, 0.5, 'TotalSpend')"
      ]
     },
     "execution_count": 30,
     "metadata": {},
     "output_type": "execute_result"
    },
    {
     "data": {
      "image/png": "[encoded data removed]",
      "text/plain": [
       "<Figure size 640x480 with 1 Axes>"
      ]
     },
     "metadata": {},
     "output_type": "display_data"
    }
   ],
   "source": [
    "plt.bar(df_sample['StockCode'],df_sample['TotalSpend'])\n",
    "plt.title('Spendscore over income',fontsize=20)\n",
    "plt.xlabel('Country')\n",
    "plt.ylabel('TotalSpend')"
   ]
  },
  {
   "cell_type": "code",
   "execution_count": 32,
   "id": "d0ca330c-c9c7-45a8-a058-93b05bf8cdb7",
   "metadata": {},
   "outputs": [
    {
     "ename": "NameError",
     "evalue": "name 'kmeans' is not defined",
     "output_type": "error",
     "traceback": [
      "\u001b[1;31m---------------------------------------------------------------------------\u001b[0m",
      "\u001b[1;31mNameError\u001b[0m                                 Traceback (most recent call last)",
      "Cell \u001b[1;32mIn[32], line 13\u001b[0m\n\u001b[0;32m     11\u001b[0m \u001b[38;5;66;03m# KMeans \u001b[39;00m\n\u001b[0;32m     12\u001b[0m Clusteringkmeans \u001b[38;5;241m=\u001b[39m KMeans(n_clusters\u001b[38;5;241m=\u001b[39m\u001b[38;5;241m3\u001b[39m, random_state\u001b[38;5;241m=\u001b[39m\u001b[38;5;241m42\u001b[39m)  \u001b[38;5;66;03m# 3 clusters\u001b[39;00m\n\u001b[1;32m---> 13\u001b[0m \u001b[43mkmeans\u001b[49m\u001b[38;5;241m.\u001b[39mfit(X_scaled)\n\u001b[0;32m     14\u001b[0m \u001b[38;5;66;03m# Get the predicted cluster labels\u001b[39;00m\n\u001b[0;32m     15\u001b[0m df_sample[\u001b[38;5;124m'\u001b[39m\u001b[38;5;124mKMeansCluster\u001b[39m\u001b[38;5;124m'\u001b[39m] \u001b[38;5;241m=\u001b[39m kmeans\u001b[38;5;241m.\u001b[39mlabels_\n",
      "\u001b[1;31mNameError\u001b[0m: name 'kmeans' is not defined"
     ]
    }
   ],
   "source": [
    "# Select features for clustering\n",
    "X_numeric = df_sample[['TotalSpend']]\n",
    "X = df_sample[['TotalSpend', 'Invoice']]\n",
    "# Normalize the data (scaling the features)\n",
    "scaler = StandardScaler()\n",
    "X_scaled = scaler.fit_transform(X_numeric)\n",
    "# Update the scaled values in the DataFrame\n",
    "df_sample[['TotalSpend']] = X_scaled\n",
    "# Save the scaler for later use\n",
    "joblib.dump(scaler, 'scaler.pkl')\n",
    "# KMeans \n",
    "Clusteringkmeans = KMeans(n_clusters=3, random_state=42)  # 3 clusters\n",
    "kmeans.fit(X_scaled)\n",
    "# Get the predicted cluster labels\n",
    "df_sample['KMeansCluster'] = kmeans.labels_\n",
    "# Save the trained KMeans model for later use\n",
    "joblib.dump(kmeans, 'kmeans_model.pkl')\n",
    "# Optionally, visualize the KMeans clustering results\n",
    "plt.scatter(df_sample['TotalSpend'] ,df_sample['Invoice'], c=df_sample['KMeansCluster'], cmap='viridis')\n",
    "plt.xlabel('TotalSpend')\n",
    "plt.ylabel('Invoice')\n",
    "plt.title('KMeans Clustering')\n",
    "plt.show()"
   ]
  },
  {
   "cell_type": "code",
   "execution_count": null,
   "id": "71feadd1-25e4-4427-8a38-a1a55e1982d3",
   "metadata": {},
   "outputs": [],
   "source": [
    "import matplotlib.pyplot as plt\n",
    "from sklearn.cluster import KMeans\n",
    "# Determine optimal number of clusters using the Elbow method\n",
    "wcss = []\n",
    "for i in range(1, 11):\n",
    "    kmeans = KMeans(n_clusters=i, init='k-means++', random_state=42)\n",
    "    kmeans.fit(X_scaled)\n",
    "    wcss.append(kmeans.inertia_)\n",
    "\n",
    "plt.plot(range(1, 11), wcss)\n",
    "plt.title('Elbow Method')\n",
    "plt.xlabel('Number of Clusters')\n",
    "plt.ylabel('WCSS')\n",
    "plt.show()"
   ]
  },
  {
   "cell_type": "code",
   "execution_count": null,
   "id": "583ccc23-d937-45e0-9e76-e514764eeb7c",
   "metadata": {},
   "outputs": [],
   "source": [
    "from sklearn.metrics import silhouette_score\n",
    "silhouette_avg = silhouette_score(X_scaled, kmeans.labels_)\n",
    "print(\"The average silhouette score is :\", silhouette_avg)"
   ]
  },
  {
   "cell_type": "code",
   "execution_count": null,
   "id": "d0a7ea52-0433-4f28-9882-67478b31e8de",
   "metadata": {},
   "outputs": [],
   "source": [
    "# Need to compute the kmeans with k from 1 to 20 and compute silhoutte score for them and then plot graph between them\n",
    "\n",
    "import matplotlib.pyplot as plt\n",
    "from sklearn.metrics import silhouette_score\n",
    "\n",
    "silhouette_scores = []\n",
    "for i in range(2, 21):\n",
    "    kmeans = KMeans(n_clusters=i, random_state=0)\n",
    "    kmeans.fit(X_scaled)\n",
    "    labels = kmeans.labels_\n",
    "    silhouette_avg = silhouette_score(X_scaled, labels)\n",
    "    silhouette_scores.append(silhouette_avg)\n",
    "\n",
    "# Plotting the silhouette scores\n",
    "plt.plot(range(2, 21), silhouette_scores)\n",
    "plt.xlabel(\"Number of Clusters (k)\")\n",
    "plt.ylabel(\"Silhouette Score\")\n",
    "plt.title(\"Silhouette Score vs. Number of Clusters\")\n",
    "plt.show()\n"
   ]
  },
  {
   "cell_type": "code",
   "execution_count": null,
   "id": "e20f6913-c4ca-4016-a20a-a1a8df151f21",
   "metadata": {},
   "outputs": [],
   "source": [
    "# DBSCAN Clustering\n",
    "dbscan = DBSCAN(eps=0.5, min_samples=5)  # eps is the maximum distance between two points to be considered neighbors\n",
    "dbscan_labels = dbscan.fit_predict(X_scaled)\n",
    "# Add the DBSCAN labels to the DataFrame\n",
    "df_sample['DBSCANCluster'] = dbscan_labels\n",
    "# Save the trained DBSCAN model for later usejoblib.dump(dbscan, 'dbscan_model.pkl')\n",
    "# visualize the DBSCAN results\n",
    "plt.scatter(df_sample['TotalSpend'], df_sample['Invoice'], c=df_sample['DBSCANCluster'], cmap='plasma')plt.xlabel('TotalSpend')\n",
    "plt.ylabel('Invoice')plt.title('DBSCAN Clustering')\n",
    "plt.show()\n",
    "# Load the trained modelskmeans = joblib.load('kmeans_model.pkl')\n",
    "dbscan = joblib.load('dbscan_model.pkl')\n",
    "# Load the scalerscaler = joblib.load('scaler.pkl')\n",
    "\n",
    "new_data = pd.DataFrame({    'TotalSpend': [500, 1500],\n",
    "    'Invoice': [12345, 67890]  })\n",
    "# scale only TotalSpend\n",
    "new_data_scaled = scaler.transform(new_data[['TotalSpend']])  # Only scale TotalSpend\n",
    "# Create a DataFrame for predictions that includes the scaled TotalSpend and the original Invoice\n",
    "new_data_combined = pd.DataFrame({    'TotalSpend': new_data_scaled.flatten(),  # Flatten to convert 2D array to 1D\n",
    "    'Invoice': new_data['Invoice']  # Keep Invoice as is})\n",
    "# Predict using KMeans\n",
    "kmeans_predictions = kmeans.predict(new_data_scaled)\n",
    "# For DBSCAN we  use the same features as during training# Since DBSCAN was fitted on both features we need to provide both\n",
    "# we will scale only TotalSpend and keep Invoice as isnew_data_combined_scaled = scaler.transform(new_data[['TotalSpend']])  # Scale only TotalSpend\n",
    "# Combine the scaled TotalSpend with the original Invoice for DBSCAN\n",
    "new_data_combined_for_dbscan = pd.DataFrame({    'TotalSpend': new_data_combined_scaled.flatten(),\n",
    "    'Invoice': new_data['Invoice']})\n",
    "# Predict using DBSCAN\n",
    "dbscan_predictions = dbscan.fit_predict(new_data_combined_for_dbscan)\n",
    "# Print predictionsprint(\"KMeans Predictions:\", kmeans_predictions)\n",
    "print(\"DBSCAN Predictions:\", dbscan_predictions)"
   ]
  }
 ],
 "metadata": {
  "kernelspec": {
   "display_name": "Python 3 (ipykernel)",
   "language": "python",
   "name": "python3"
  },
  "language_info": {
   "codemirror_mode": {
    "name": "ipython",
    "version": 3
   },
   "file_extension": ".py",
   "mimetype": "text/x-python",
   "name": "python",
   "nbconvert_exporter": "python",
   "pygments_lexer": "ipython3",
   "version": "3.12.2"
  }
 },
 "nbformat": 4,
 "nbformat_minor": 5
}
